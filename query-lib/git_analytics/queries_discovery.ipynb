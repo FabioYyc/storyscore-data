{
 "cells": [
  {
   "cell_type": "markdown",
   "metadata": {},
   "source": [
    "Use a note book so debugging is quicker"
   ]
  },
  {
   "cell_type": "code",
   "execution_count": 1,
   "metadata": {},
   "outputs": [],
   "source": [
    "import sys \n",
    "import settings\n",
    "project_root = str(settings.get_project_root())\n",
    "sys.path.append(project_root)"
   ]
  },
  {
   "cell_type": "code",
   "execution_count": 2,
   "metadata": {},
   "outputs": [],
   "source": [
    "from pystackql import StackQL\n",
    "import json \n",
    "import os\n",
    "import pandas as pd\n",
    "import dotenv\n",
    "import base64\n",
    "from IPython.display import display\n",
    "from stackqueries import GitHubQueries"
   ]
  },
  {
   "cell_type": "code",
   "execution_count": 3,
   "metadata": {},
   "outputs": [
    {
     "data": {
      "text/plain": [
       "True"
      ]
     },
     "execution_count": 3,
     "metadata": {},
     "output_type": "execute_result"
    }
   ],
   "source": [
    "dotenv.load_dotenv()"
   ]
  },
  {
   "cell_type": "code",
   "execution_count": 4,
   "metadata": {},
   "outputs": [],
   "source": [
    "auth = { \n",
    "    \"github\": \n",
    "      { \"type\": \"basic\", \"credentialsenvvar\": \"GITHUB_CREDS\" }\n",
    "}\n",
    "iql = StackQL(auth=json.dumps(auth))"
   ]
  },
  {
   "cell_type": "code",
   "execution_count": 5,
   "metadata": {},
   "outputs": [],
   "source": [
    "def get_dataframe_from_query(query: str) -> pd.DataFrame :\n",
    "    res = iql.execute(query)\n",
    "    try: \n",
    "        if not res:\n",
    "            raise TypeError(res)\n",
    "        res_obj = json.loads(res)\n",
    "        if not res_obj:\n",
    "            raise TypeError(res)\n",
    "        if \"error\" in res_obj:\n",
    "            raise AttributeError(res)\n",
    "        data = pd.DataFrame(res_obj)\n",
    "        return data\n",
    "    except Exception as error:\n",
    "        if not isinstance(error, TypeError):\n",
    "            error.args = ('StackQL execute error with error: %s, res: %s, error type: %s, res type: %s' %(error, res, type(error), type(res)), *error.args)\n",
    "        raise error\n"
   ]
  },
  {
   "cell_type": "code",
   "execution_count": 6,
   "metadata": {},
   "outputs": [],
   "source": [
    "## pull github registry\n",
    "registry_res = iql.execute('REGISTRY LIST;')\n",
    "registry_list = json.loads(registry_res)\n",
    "github_registry = list(filter(lambda reg: reg[\"provider\"] == 'github', registry_list))[0]\n",
    "github_version = github_registry['version']\n",
    "\n",
    "pull_provider_query = \"\"\"\n",
    "REGISTRY PULL github %s;\n",
    "\"\"\" % github_version\n",
    "\n",
    "res = iql.execute(pull_provider_query)\n"
   ]
  },
  {
   "cell_type": "markdown",
   "metadata": {},
   "source": [
    "## Team Analytics"
   ]
  },
  {
   "cell_type": "markdown",
   "metadata": {},
   "source": [
    "### Backlog efficiency"
   ]
  },
  {
   "cell_type": "markdown",
   "metadata": {},
   "source": [
    "#### Developer throughput and work in progress\n",
    "Team Leads can ensure that developers:\n",
    "- Have an active branch.\n",
    "- Developers who do not have an active branch might not have picked up a new story or might be stuck.\n",
    "- Do NOT have too many active branches.\n"
   ]
  },
  {
   "cell_type": "markdown",
   "metadata": {},
   "source": [
    "#### Open Pull Requests"
   ]
  },
  {
   "cell_type": "code",
   "execution_count": 7,
   "metadata": {},
   "outputs": [],
   "source": [
    "owner = 'daos-stack'\n",
    "repo = 'daos'"
   ]
  },
  {
   "cell_type": "code",
   "execution_count": 8,
   "metadata": {},
   "outputs": [],
   "source": [
    "def list_pull_request_numbers(owner, repo):\n",
    "    query = GitHubQueries.get_pull_request_numbers % (owner, repo)\n",
    "    print(query)\n",
    "    data = get_dataframe_from_query(query)\n",
    "    return data"
   ]
  },
  {
   "cell_type": "code",
   "execution_count": 9,
   "metadata": {},
   "outputs": [
    {
     "name": "stdout",
     "output_type": "stream",
     "text": [
      "\n",
      "    SELECT \n",
      "    id,\n",
      "    number\n",
      "    from github.pulls.pull_requests   \n",
      "    WHERE\n",
      "    owner = 'daos-stack' AND repo = 'daos';\n",
      "    \n"
     ]
    }
   ],
   "source": [
    "pull_requests_numbers = list_pull_request_numbers(owner=owner, repo=repo)"
   ]
  },
  {
   "cell_type": "code",
   "execution_count": 10,
   "metadata": {},
   "outputs": [
    {
     "data": {
      "text/html": [
       "<div>\n",
       "<style scoped>\n",
       "    .dataframe tbody tr th:only-of-type {\n",
       "        vertical-align: middle;\n",
       "    }\n",
       "\n",
       "    .dataframe tbody tr th {\n",
       "        vertical-align: top;\n",
       "    }\n",
       "\n",
       "    .dataframe thead th {\n",
       "        text-align: right;\n",
       "    }\n",
       "</style>\n",
       "<table border=\"1\" class=\"dataframe\">\n",
       "  <thead>\n",
       "    <tr style=\"text-align: right;\">\n",
       "      <th></th>\n",
       "      <th>id</th>\n",
       "      <th>number</th>\n",
       "    </tr>\n",
       "  </thead>\n",
       "  <tbody>\n",
       "    <tr>\n",
       "      <th>0</th>\n",
       "      <td>1009626152</td>\n",
       "      <td>9821</td>\n",
       "    </tr>\n",
       "    <tr>\n",
       "      <th>1</th>\n",
       "      <td>1009625043</td>\n",
       "      <td>9820</td>\n",
       "    </tr>\n",
       "    <tr>\n",
       "      <th>2</th>\n",
       "      <td>1009438018</td>\n",
       "      <td>9819</td>\n",
       "    </tr>\n",
       "    <tr>\n",
       "      <th>3</th>\n",
       "      <td>1009434480</td>\n",
       "      <td>9818</td>\n",
       "    </tr>\n",
       "    <tr>\n",
       "      <th>4</th>\n",
       "      <td>1009418814</td>\n",
       "      <td>9817</td>\n",
       "    </tr>\n",
       "  </tbody>\n",
       "</table>\n",
       "</div>"
      ],
      "text/plain": [
       "           id number\n",
       "0  1009626152   9821\n",
       "1  1009625043   9820\n",
       "2  1009438018   9819\n",
       "3  1009434480   9818\n",
       "4  1009418814   9817"
      ]
     },
     "metadata": {},
     "output_type": "display_data"
    }
   ],
   "source": [
    "display(pull_requests_numbers.head())"
   ]
  },
  {
   "cell_type": "code",
   "execution_count": 11,
   "metadata": {},
   "outputs": [],
   "source": [
    "def get_open_pull_requests_by_number(owner, repo, pull_number):\n",
    "    query = GitHubQueries.get_open_request_with_cycle_time % (owner, repo, pull_number)\n",
    "    data = get_dataframe_from_query(query)\n",
    "    return data\n",
    "\n",
    "def get_open_pull_requests(owner, repo):\n",
    "    pull_requests_numbers = list_pull_request_numbers(owner, repo)\n",
    "    numbers = pull_requests_numbers['number'].to_list()\n",
    "    open_pull_requests = pd.DataFrame()\n",
    "    for number in numbers:\n",
    "        pull_request = get_open_pull_requests_by_number(owner, repo, number)\n",
    "        open_pull_requests = pd.concat([open_pull_requests, pull_request])\n",
    "    return open_pull_requests"
   ]
  },
  {
   "cell_type": "code",
   "execution_count": 15,
   "metadata": {},
   "outputs": [
    {
     "data": {
      "text/html": [
       "<div>\n",
       "<style scoped>\n",
       "    .dataframe tbody tr th:only-of-type {\n",
       "        vertical-align: middle;\n",
       "    }\n",
       "\n",
       "    .dataframe tbody tr th {\n",
       "        vertical-align: top;\n",
       "    }\n",
       "\n",
       "    .dataframe thead th {\n",
       "        text-align: right;\n",
       "    }\n",
       "</style>\n",
       "<table border=\"1\" class=\"dataframe\">\n",
       "  <thead>\n",
       "    <tr style=\"text-align: right;\">\n",
       "      <th></th>\n",
       "      <th>changed_files</th>\n",
       "      <th>created_at</th>\n",
       "      <th>issued_days</th>\n",
       "      <th>merge_commit_sha</th>\n",
       "      <th>merged</th>\n",
       "      <th>merged_at</th>\n",
       "      <th>number</th>\n",
       "      <th>state</th>\n",
       "      <th>title</th>\n",
       "      <th>updated_at</th>\n",
       "    </tr>\n",
       "  </thead>\n",
       "  <tbody>\n",
       "    <tr>\n",
       "      <th>0</th>\n",
       "      <td>1</td>\n",
       "      <td>2022-07-27T12:51:48Z</td>\n",
       "      <td>0</td>\n",
       "      <td>e9c6cc2c433bab5adf80ab7ebcad195f472aecd9</td>\n",
       "      <td>false</td>\n",
       "      <td>null</td>\n",
       "      <td>9821</td>\n",
       "      <td>open</td>\n",
       "      <td>DAOS-10967 vos: coverity issue fix (#9681)</td>\n",
       "      <td>2022-07-27T12:53:17Z</td>\n",
       "    </tr>\n",
       "  </tbody>\n",
       "</table>\n",
       "</div>"
      ],
      "text/plain": [
       "  changed_files            created_at issued_days  \\\n",
       "0             1  2022-07-27T12:51:48Z           0   \n",
       "\n",
       "                           merge_commit_sha merged merged_at number state  \\\n",
       "0  e9c6cc2c433bab5adf80ab7ebcad195f472aecd9  false      null   9821  open   \n",
       "\n",
       "                                        title            updated_at  \n",
       "0  DAOS-10967 vos: coverity issue fix (#9681)  2022-07-27T12:53:17Z  "
      ]
     },
     "metadata": {},
     "output_type": "display_data"
    }
   ],
   "source": [
    "pull_request = get_open_pull_requests_by_number(owner=owner, repo=repo, pull_number=9821)\n",
    "display(pull_request)"
   ]
  },
  {
   "cell_type": "code",
   "execution_count": null,
   "metadata": {},
   "outputs": [],
   "source": [
    "open_pull_requests = get_open_pull_requests(owner, repo)\n",
    "display(open_pull_requests.head())"
   ]
  },
  {
   "cell_type": "markdown",
   "metadata": {},
   "source": [
    "Active branch:\n",
    "- branches that has been updated with in 5 days\n",
    "- branches that is not merged in\n",
    "\n",
    "Might need to get the commits of the branch and check the latest one\n"
   ]
  },
  {
   "cell_type": "code",
   "execution_count": 45,
   "metadata": {},
   "outputs": [
    {
     "name": "stdout",
     "output_type": "stream",
     "text": [
      "\n",
      "    select \n",
      "    b.name, \n",
      "    round(julianday('now') - julianday(JSON_EXTRACT(c.commit, '$.author.date'))) as days_after_last_updated\n",
      "    from github.repos.branches b \n",
      "    JOIN github.repos.commits c\n",
      "    ON JSON_EXTRACT(b.commit, '$.sha') = c.sha\n",
      "    WHERE\n",
      "    owner = 'daos-stack'\n",
      "    AND\n",
      "    repo = 'daos'\n",
      "    AND \n",
      "    ref = '85c774f6e1bbc9dd59ed81d2137e2d7d002d9d54'\n",
      "    ;\n",
      "    \n"
     ]
    }
   ],
   "source": [
    "UPDATE_THRESHOLD = 7 ##only branches has been updated within 5 days consider active\n",
    "def list_branches_with_update_date(org_name, repo):\n",
    "    query = \"\"\"\n",
    "    select \n",
    "    b.name, \n",
    "    round(julianday('now') - julianday(JSON_EXTRACT(c.commit, '$.author.date'))) as days_after_last_updated\n",
    "    from github.repos.branches b \n",
    "    JOIN github.repos.commits c\n",
    "    ON JSON_EXTRACT(b.commit, '$.sha') = c.sha\n",
    "    WHERE\n",
    "    owner = '%s'\n",
    "    AND\n",
    "    repo = '%s'\n",
    "    ;\n",
    "    \"\"\" % (org_name, repo)\n",
    "    print(query)\n",
    "    data = get_dataframe_from_query(query)\n",
    "    return data\n",
    "branches = list_branches_with_update_date('daos-stack', 'daos')"
   ]
  },
  {
   "cell_type": "code",
   "execution_count": 46,
   "metadata": {},
   "outputs": [
    {
     "data": {
      "text/html": [
       "<div>\n",
       "<style scoped>\n",
       "    .dataframe tbody tr th:only-of-type {\n",
       "        vertical-align: middle;\n",
       "    }\n",
       "\n",
       "    .dataframe tbody tr th {\n",
       "        vertical-align: top;\n",
       "    }\n",
       "\n",
       "    .dataframe thead th {\n",
       "        text-align: right;\n",
       "    }\n",
       "</style>\n",
       "<table border=\"1\" class=\"dataframe\">\n",
       "  <thead>\n",
       "    <tr style=\"text-align: right;\">\n",
       "      <th></th>\n",
       "      <th>days_after_last_updated</th>\n",
       "      <th>name</th>\n",
       "    </tr>\n",
       "  </thead>\n",
       "  <tbody>\n",
       "    <tr>\n",
       "      <th>0</th>\n",
       "      <td>0</td>\n",
       "      <td>pahender/DAOS-11194</td>\n",
       "    </tr>\n",
       "  </tbody>\n",
       "</table>\n",
       "</div>"
      ],
      "text/plain": [
       "  days_after_last_updated                 name\n",
       "0                       0  pahender/DAOS-11194"
      ]
     },
     "metadata": {},
     "output_type": "display_data"
    },
    {
     "data": {
      "text/html": [
       "<div>\n",
       "<style scoped>\n",
       "    .dataframe tbody tr th:only-of-type {\n",
       "        vertical-align: middle;\n",
       "    }\n",
       "\n",
       "    .dataframe tbody tr th {\n",
       "        vertical-align: top;\n",
       "    }\n",
       "\n",
       "    .dataframe thead th {\n",
       "        text-align: right;\n",
       "    }\n",
       "</style>\n",
       "<table border=\"1\" class=\"dataframe\">\n",
       "  <thead>\n",
       "    <tr style=\"text-align: right;\">\n",
       "      <th></th>\n",
       "      <th>days_after_last_updated</th>\n",
       "      <th>name</th>\n",
       "    </tr>\n",
       "  </thead>\n",
       "  <tbody>\n",
       "    <tr>\n",
       "      <th>0</th>\n",
       "      <td>0</td>\n",
       "      <td>pahender/DAOS-11194</td>\n",
       "    </tr>\n",
       "  </tbody>\n",
       "</table>\n",
       "</div>"
      ],
      "text/plain": [
       "   days_after_last_updated                 name\n",
       "0                        0  pahender/DAOS-11194"
      ]
     },
     "metadata": {},
     "output_type": "display_data"
    }
   ],
   "source": [
    "display(branches)\n",
    "branches['days_after_last_updated'] = pd.to_numeric(branches['days_after_last_updated'], errors='coerce')\n",
    "active_branches = branches[branches['days_after_last_updated'] < UPDATE_THRESHOLD]\n",
    "display(active_branches)\n"
   ]
  },
  {
   "cell_type": "markdown",
   "metadata": {},
   "source": [
    "Check a branch is merged in\n",
    "- use github.repos.commit_pull_requests resource\n",
    "- make use the branch commit_sha to join commit_pull_requests\n",
    "- commit_pull_requests merged_at is not null\n",
    "- So active branch = the branch in recent updated branch but not in merged in branch\n",
    "\n",
    "TODO: improve this by using outer join, when new version of stackql released"
   ]
  },
  {
   "cell_type": "markdown",
   "metadata": {},
   "source": [
    "Get commits of a branch:\n",
    "\n",
    "Use [commit_branches](https://registry.stackql.io/providers/github/repos/commit_branches/) resource to get the commits of the branch"
   ]
  }
 ],
 "metadata": {
  "interpreter": {
   "hash": "112539a114e53e07d0d40516414ef3f03c8b19d5bd93611aadd0ca1ac465dfd7"
  },
  "kernelspec": {
   "display_name": "Python 3.8.9 ('venv': venv)",
   "language": "python",
   "name": "python3"
  },
  "language_info": {
   "codemirror_mode": {
    "name": "ipython",
    "version": 3
   },
   "file_extension": ".py",
   "mimetype": "text/x-python",
   "name": "python",
   "nbconvert_exporter": "python",
   "pygments_lexer": "ipython3",
   "version": "3.8.9"
  },
  "orig_nbformat": 4
 },
 "nbformat": 4,
 "nbformat_minor": 2
}
