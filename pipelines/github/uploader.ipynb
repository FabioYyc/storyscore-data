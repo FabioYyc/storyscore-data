{
 "cells": [
  {
   "cell_type": "code",
   "execution_count": 1,
   "metadata": {},
   "outputs": [
    {
     "name": "stdout",
     "output_type": "stream",
     "text": [
      "/Users/yunchengyang/Projects/Storyscore/storyscore-data\n"
     ]
    }
   ],
   "source": [
    "import sys \n",
    "import settings\n",
    "import os\n",
    "project_root = str(settings.get_project_root())\n",
    "print(project_root)\n",
    "sys.path.append(project_root)\n",
    "os.environ['GOOGLE_APPLICATION_CREDENTIALS'] = '/Users/yunchengyang/Projects/Storyscore/storyscore-data/db/bigquery/service-key.json'"
   ]
  },
  {
   "cell_type": "code",
   "execution_count": 2,
   "metadata": {},
   "outputs": [],
   "source": [
    "def get_json_file():\n",
    "    filename = 'user-activities.json'\n",
    "    return filename"
   ]
  },
  {
   "cell_type": "code",
   "execution_count": 3,
   "metadata": {},
   "outputs": [],
   "source": [
    "import db.bigquery.data as bg\n",
    "import db.bigquery.schemas as schemas\n",
    "\n",
    "def upload_user_activity(filename: str):\n",
    "    dataset = 'github_user_activity'\n",
    "    table_name = 'user_activity'\n",
    "    config = bg.create_load_job_config()\n",
    "    bg.upload_json(filename=filename, dataset_id=dataset, table_id=table_name, config= config)\n",
    "    return\n",
    "    "
   ]
  },
  {
   "cell_type": "code",
   "execution_count": 4,
   "metadata": {},
   "outputs": [
    {
     "name": "stdout",
     "output_type": "stream",
     "text": [
      "uploading table: user_activity\n",
      "storyscore-356114.github_user_activity.user_activity\n",
      "Loaded 85 rows and 11 columns to user_activity\n"
     ]
    }
   ],
   "source": [
    "upload_user_activity(get_json_file())"
   ]
  }
 ],
 "metadata": {
  "interpreter": {
   "hash": "112539a114e53e07d0d40516414ef3f03c8b19d5bd93611aadd0ca1ac465dfd7"
  },
  "kernelspec": {
   "display_name": "Python 3.8.9 ('venv': venv)",
   "language": "python",
   "name": "python3"
  },
  "language_info": {
   "codemirror_mode": {
    "name": "ipython",
    "version": 3
   },
   "file_extension": ".py",
   "mimetype": "text/x-python",
   "name": "python",
   "nbconvert_exporter": "python",
   "pygments_lexer": "ipython3",
   "version": "3.8.9"
  },
  "orig_nbformat": 4
 },
 "nbformat": 4,
 "nbformat_minor": 2
}
