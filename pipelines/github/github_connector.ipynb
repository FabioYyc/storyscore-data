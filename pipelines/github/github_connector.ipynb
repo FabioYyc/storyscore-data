{
 "cells": [
  {
   "cell_type": "markdown",
   "metadata": {},
   "source": [
    "## Set up the dependencies and configurations"
   ]
  },
  {
   "cell_type": "markdown",
   "metadata": {},
   "source": [
    "###  Assumption: you have downloaded stackql and is in your system path\n",
    "Follow [this instruction to install](https://stackql.io/downloads)"
   ]
  },
  {
   "cell_type": "markdown",
   "metadata": {},
   "source": [
    "### Append system path so we can use other modules"
   ]
  },
  {
   "cell_type": "code",
   "execution_count": 1,
   "metadata": {},
   "outputs": [
    {
     "name": "stdout",
     "output_type": "stream",
     "text": [
      "/Users/yunchengyang/Projects/Storyscore/storyscore-data\n"
     ]
    }
   ],
   "source": [
    "import sys \n",
    "import settings\n",
    "project_root = str(settings.get_project_root())\n",
    "print(project_root)\n",
    "sys.path.append(project_root)"
   ]
  },
  {
   "cell_type": "markdown",
   "metadata": {},
   "source": [
    "### setup stackql"
   ]
  },
  {
   "cell_type": "code",
   "execution_count": 2,
   "metadata": {},
   "outputs": [],
   "source": [
    "from pystackql import StackQL\n",
    "import json \n",
    "import os\n",
    "import pandas as pd"
   ]
  },
  {
   "cell_type": "code",
   "execution_count": 3,
   "metadata": {},
   "outputs": [],
   "source": [
    "os.environ['GITHUB_CREDS'] = \"b60db0573b17fdf5e12a:2bc5d338d11e71aa0d60ddfca5f971208c009792\"\n",
    "auth = { \n",
    "    \"github\": \n",
    "      { \"type\": \"basic\", \"credentialsenvvar\": \"GITHUB_CREDS\" }\n",
    "}\n",
    "stackql_path = project_root + '/.stackql'\n",
    "iql = StackQL(auth=json.dumps(auth))"
   ]
  },
  {
   "cell_type": "markdown",
   "metadata": {},
   "source": [
    "To make the script easy to duplicate in any environment, we will use pystackql to pull the github provider from registry"
   ]
  },
  {
   "cell_type": "code",
   "execution_count": 4,
   "metadata": {},
   "outputs": [
    {
     "name": "stdout",
     "output_type": "stream",
     "text": [
      "v0.3.2\n",
      "\n",
      "REGISTRY PULL github v0.3.2;\n",
      "\n",
      "[{\"error\": \"github provider, version 'v0.3.2' successfully installed\"}]\n"
     ]
    }
   ],
   "source": [
    "## pull github registry\n",
    "registry_res = iql.execute('REGISTRY LIST;')\n",
    "registry_list = json.loads(registry_res)\n",
    "github_registry = list(filter(lambda reg: reg[\"provider\"] == 'github', registry_list))[0]\n",
    "github_version = github_registry['version']\n",
    "\n",
    "print(github_version)\n",
    "\n",
    "pull_provider_query = \"\"\"\n",
    "REGISTRY PULL github %s;\n",
    "\"\"\" % github_version\n",
    "\n",
    "print(pull_provider_query)\n",
    "\n",
    "res = iql.execute(pull_provider_query)\n",
    "\n",
    "print(res)\n"
   ]
  },
  {
   "cell_type": "markdown",
   "metadata": {},
   "source": [
    "## Using Github provider\n",
    "We will use [Intel open source DAOS project](https://github.com/daos-stack/daos) as example "
   ]
  },
  {
   "cell_type": "code",
   "execution_count": 5,
   "metadata": {},
   "outputs": [],
   "source": [
    "org_name = 'stackql'"
   ]
  },
  {
   "cell_type": "markdown",
   "metadata": {},
   "source": [
    "### Overview\n",
    "First lets look at what we can get from the Github provider"
   ]
  },
  {
   "cell_type": "code",
   "execution_count": 57,
   "metadata": {},
   "outputs": [],
   "source": [
    "def get_dataframe_from_query(query: str) -> pd.DataFrame :\n",
    "    res = iql.execute(query)\n",
    "    try: \n",
    "        res_obj = json.loads(res)\n",
    "        if \"error\" in res:\n",
    "            raise AttributeError()\n",
    "        if not res_obj:\n",
    "            raise TypeError(res)\n",
    "        data = pd.DataFrame.from_dict(res_obj)\n",
    "        return data\n",
    "    except Exception as error:\n",
    "        if not isinstance(error, TypeError):\n",
    "            error.args = ('StackQL execute error with error: %s, res: %s, error type: %s, res type: %s' %(error, res, type(error), type(res)), *error.args)\n",
    "        raise error\n"
   ]
  },
  {
   "cell_type": "code",
   "execution_count": 7,
   "metadata": {},
   "outputs": [
    {
     "name": "stdout",
     "output_type": "stream",
     "text": [
      "                                              id  \\\n",
      "0               github.repos.access_restrictions   \n",
      "1           github.repos.admin_branch_protection   \n",
      "2                        github.repos.app_access   \n",
      "3                         github.repos.autolinks   \n",
      "4                 github.repos.branch_protection   \n",
      "5                          github.repos.branches   \n",
      "6                     github.repos.clone_traffic   \n",
      "7    github.repos.collaborator_permission_levels   \n",
      "8                     github.repos.collaborators   \n",
      "9                 github.repos.combined_statuses   \n",
      "10                         github.repos.comments   \n",
      "11                  github.repos.commit_branches   \n",
      "12             github.repos.commit_pull_requests   \n",
      "13                          github.repos.commits   \n",
      "14                        github.repos.community   \n",
      "15                  github.repos.content_traffic   \n",
      "16                         github.repos.contents   \n",
      "17                     github.repos.contributors   \n",
      "18              github.repos.deployment_statuses   \n",
      "19                      github.repos.deployments   \n",
      "20                     github.repos.environments   \n",
      "21                            github.repos.forks   \n",
      "22                      github.repos.invitations   \n",
      "23                             github.repos.keys   \n",
      "24                  github.repos.latest_releases   \n",
      "25                              github.repos.lfs   \n",
      "26                          github.repos.merging   \n",
      "27                            github.repos.pages   \n",
      "28               github.repos.pages_build_latest   \n",
      "29                     github.repos.pages_builds   \n",
      "30              github.repos.pages_health_checks   \n",
      "31                     github.repos.public_repos   \n",
      "32                 github.repos.referrer_traffic   \n",
      "33                   github.repos.release_assets   \n",
      "34                         github.repos.releases   \n",
      "35                            github.repos.repos   \n",
      "36    github.repos.required_pull_request_reviews   \n",
      "37              github.repos.required_signatures   \n",
      "38           github.repos.required_status_checks   \n",
      "39        github.repos.statistics_code_frequency   \n",
      "40       github.repos.statistics_commit_activity   \n",
      "41  github.repos.statistics_contributor_activity   \n",
      "42         github.repos.statistics_participation   \n",
      "43           github.repos.statistics_punch_cards   \n",
      "44            github.repos.status_check_contexts   \n",
      "45                         github.repos.statuses   \n",
      "46                             github.repos.tags   \n",
      "47                      github.repos.team_access   \n",
      "48                            github.repos.teams   \n",
      "49                           github.repos.topics   \n",
      "50                          github.repos.traffic   \n",
      "51                      github.repos.user_access   \n",
      "52                   github.repos.webhook_config   \n",
      "53               github.repos.webhook_deliveries   \n",
      "54                         github.repos.webhooks   \n",
      "\n",
      "                               name  \n",
      "0               access_restrictions  \n",
      "1           admin_branch_protection  \n",
      "2                        app_access  \n",
      "3                         autolinks  \n",
      "4                 branch_protection  \n",
      "5                          branches  \n",
      "6                     clone_traffic  \n",
      "7    collaborator_permission_levels  \n",
      "8                     collaborators  \n",
      "9                 combined_statuses  \n",
      "10                         comments  \n",
      "11                  commit_branches  \n",
      "12             commit_pull_requests  \n",
      "13                          commits  \n",
      "14                        community  \n",
      "15                  content_traffic  \n",
      "16                         contents  \n",
      "17                     contributors  \n",
      "18              deployment_statuses  \n",
      "19                      deployments  \n",
      "20                     environments  \n",
      "21                            forks  \n",
      "22                      invitations  \n",
      "23                             keys  \n",
      "24                  latest_releases  \n",
      "25                              lfs  \n",
      "26                          merging  \n",
      "27                            pages  \n",
      "28               pages_build_latest  \n",
      "29                     pages_builds  \n",
      "30              pages_health_checks  \n",
      "31                     public_repos  \n",
      "32                 referrer_traffic  \n",
      "33                   release_assets  \n",
      "34                         releases  \n",
      "35                            repos  \n",
      "36    required_pull_request_reviews  \n",
      "37              required_signatures  \n",
      "38           required_status_checks  \n",
      "39        statistics_code_frequency  \n",
      "40       statistics_commit_activity  \n",
      "41  statistics_contributor_activity  \n",
      "42         statistics_participation  \n",
      "43           statistics_punch_cards  \n",
      "44            status_check_contexts  \n",
      "45                         statuses  \n",
      "46                             tags  \n",
      "47                      team_access  \n",
      "48                            teams  \n",
      "49                           topics  \n",
      "50                          traffic  \n",
      "51                      user_access  \n",
      "52                   webhook_config  \n",
      "53               webhook_deliveries  \n",
      "54                         webhooks  \n"
     ]
    }
   ],
   "source": [
    "### look at repos, commits and comments\n",
    "def show_resource():\n",
    "    query = 'show resources in github.repos'\n",
    "    data = get_dataframe_from_query(query)\n",
    "    \n",
    "    print(data)\n",
    "\n",
    "show_resource()\n"
   ]
  },
  {
   "cell_type": "code",
   "execution_count": 8,
   "metadata": {},
   "outputs": [
    {
     "name": "stdout",
     "output_type": "stream",
     "text": [
      "                name     type\n",
      "0                 id  integer\n",
      "1               name   string\n",
      "2        description   string\n",
      "3          forks_url   string\n",
      "4            node_id   string\n",
      "..               ...      ...\n",
      "80  issue_events_url   string\n",
      "81    milestones_url   string\n",
      "82          keys_url   string\n",
      "83              fork  boolean\n",
      "84    default_branch   string\n",
      "\n",
      "[85 rows x 2 columns]\n",
      "            name    type\n",
      "0          files   array\n",
      "1         commit  object\n",
      "2        node_id  string\n",
      "3         author  object\n",
      "4      committer  object\n",
      "5            url  string\n",
      "6          stats  object\n",
      "7       html_url  string\n",
      "8            sha  string\n",
      "9   comments_url  string\n",
      "10       parents   array\n"
     ]
    }
   ],
   "source": [
    "def describe_commit():\n",
    "    query = 'DESCRIBE github.repos.commits;'\n",
    "    data = get_dataframe_from_query(query)\n",
    "    \n",
    "    print(data)\n",
    "\n",
    "def describe_repos():\n",
    "    query = 'DESCRIBE github.repos.repos;'\n",
    "    data = get_dataframe_from_query(query)\n",
    "    \n",
    "    print(data)\n",
    "    \n",
    "describe_repos()\n",
    "\n",
    "describe_commit()\n"
   ]
  },
  {
   "cell_type": "markdown",
   "metadata": {},
   "source": [
    "### explore commit activity "
   ]
  },
  {
   "cell_type": "code",
   "execution_count": 9,
   "metadata": {},
   "outputs": [],
   "source": [
    "test_repo = 'daos'\n",
    "test_owner = 'daos-stack'"
   ]
  },
  {
   "cell_type": "code",
   "execution_count": 10,
   "metadata": {},
   "outputs": [
    {
     "name": "stdout",
     "output_type": "stream",
     "text": [
      "           id                         name\n",
      "0   409393414       fullstackchronicles.io\n",
      "1   424079013    docusaurus-plugin-hubspot\n",
      "2   425113738      gatsby-plugin-smartlook\n",
      "3   425366372  docusaurus-plugin-smartlook\n",
      "4   441087132    stackql-provider-registry\n",
      "5   443987542                      stackql\n",
      "6   446769762            go-openapistackql\n",
      "7   447051137                      go-spew\n",
      "8   448123925                   go-sqlite3\n",
      "9   448126348                       vitess\n",
      "10  448127673                     readline\n",
      "11  448127756                        color\n",
      "12  455730530                    pystackql\n",
      "13  456722161         stackql-jupyter-demo\n",
      "14  469681593                    psql-wire\n",
      "15  472680056            provider-doc-util\n",
      "16  474504182                go-suffix-map\n",
      "17  476492741              okta-pkce-login\n",
      "18  487689765             openapi-doc-util\n",
      "19  501046061      stackql-gcp-foundations\n",
      "20  504338261          registry.stackql.io\n",
      "21  506876993  google-discovery-to-openapi\n"
     ]
    }
   ],
   "source": [
    "def list_repos():\n",
    "    query = \"\"\"\n",
    "    select id, name\n",
    "    from github.repos.repos\n",
    "    where org = '%s';\n",
    "    \"\"\" % org_name\n",
    "    data = get_dataframe_from_query(query)\n",
    "    \n",
    "    print(data)\n",
    "list_repos()"
   ]
  },
  {
   "cell_type": "code",
   "execution_count": 11,
   "metadata": {},
   "outputs": [],
   "source": [
    "def get_username_from_url(url):\n",
    "    #https://api.github.com/users/jolivier23\n",
    "    try:\n",
    "        if url != None and url != 'null' and len(url):\n",
    "            return url.split('/users/')[1]\n",
    "        return None\n",
    "    except:\n",
    "        print('get user name from url error with url %s', url)"
   ]
  },
  {
   "cell_type": "code",
   "execution_count": 12,
   "metadata": {},
   "outputs": [],
   "source": [
    "def get_username_from_column(list_data: list):\n",
    "    return list(map(lambda url: get_username_from_url(url), list_data));\n"
   ]
  },
  {
   "cell_type": "code",
   "execution_count": 13,
   "metadata": {},
   "outputs": [
    {
     "name": "stdout",
     "output_type": "stream",
     "text": [
      "\n",
      "    SELECT name, email, id, type, url\n",
      "    FROM github.repos.contributors\n",
      "    where repo = 'daos' AND owner = 'daos-stack';\n",
      "    \n",
      "  email        id  name  type                                         url  \\\n",
      "0  null  10464486  null  User     https://api.github.com/users/jolivier23   \n",
      "1  null  32652776  null  User        https://api.github.com/users/wangdi1   \n",
      "2  null   5822721  null  User  https://api.github.com/users/ashleypittman   \n",
      "3  null   3277648  null  User       https://api.github.com/users/tanabarr   \n",
      "4  null   1791869  null  User     https://api.github.com/users/liuxuezhao   \n",
      "\n",
      "        username  \n",
      "0     jolivier23  \n",
      "1        wangdi1  \n",
      "2  ashleypittman  \n",
      "3       tanabarr  \n",
      "4     liuxuezhao  \n"
     ]
    }
   ],
   "source": [
    "### get the developers\n",
    "#github.repos.contributors\n",
    "def get_contributors_of_repo(repo, owner):\n",
    "    query = \"\"\"\n",
    "    SELECT name, email, id, type, url\n",
    "    FROM github.repos.contributors\n",
    "    where repo = '%s' AND owner = '%s';\n",
    "    \"\"\" % (repo, owner)\n",
    "    print(query)\n",
    "    data = get_dataframe_from_query(query)\n",
    "    return data\n",
    "contributor_data = get_contributors_of_repo(test_repo, test_owner)\n",
    "contributor_data['username'] = get_username_from_column(contributor_data['url'].to_list())\n",
    "print(contributor_data.head(5))"
   ]
  },
  {
   "cell_type": "code",
   "execution_count": 14,
   "metadata": {},
   "outputs": [],
   "source": [
    "\n",
    "def get_commits(repo, owner) :\n",
    "    query = \"\"\"\n",
    "    SELECT \n",
    "    JSON_EXTRACT(commit, '$.message') as message, \n",
    "    sha, \n",
    "    JSON_EXTRACT(author, '$.url') as url,\n",
    "    JSON_EXTRACT(commit, '$.author.date') as commit_date\n",
    "    FROM github.repos.commits \n",
    "    where repo = '%s' AND owner = '%s';\n",
    "    \"\"\" % (repo, owner)\n",
    "    data = get_dataframe_from_query(query)\n",
    "    # commits_json = data['commit'].to_list()\n",
    "    # commits = list(map(lambda commit: json.loads(commit), commits_json)) \n",
    "    # data['commit'] = commits   \n",
    "    return data\n",
    "\n",
    "commits = get_commits(test_repo, test_owner)\n",
    "commits['username'] = get_username_from_column(commits['url'].to_list())\n",
    "\n",
    "\n"
   ]
  },
  {
   "cell_type": "code",
   "execution_count": 15,
   "metadata": {},
   "outputs": [
    {
     "name": "stdout",
     "output_type": "stream",
     "text": [
      "{'commit_date': {0: '2022-07-15T21:15:58Z'}, 'message': {0: 'DAOS-10300 test: fix dmg_pool_query (#9720)\\n\\nUpdate dmg_pool_query tests with expected values\\r\\n\\r\\nSigned-off-by: Dalton Bohning <dalton.bohning@intel.com>'}, 'sha': {0: '0e243044b00d7c6ceb14f1cc415b8ba11de21307'}, 'url': {0: 'https://api.github.com/users/daltonbohning'}, 'username': {0: 'daltonbohning'}}\n"
     ]
    }
   ],
   "source": [
    "print(commits.head(1).to_dict())"
   ]
  },
  {
   "cell_type": "code",
   "execution_count": 16,
   "metadata": {},
   "outputs": [
    {
     "name": "stdout",
     "output_type": "stream",
     "text": [
      "\n",
      "    SELECT name, email, id, type, url\n",
      "    FROM github.repos.contributors\n",
      "    where repo = 'daos' AND owner = 'daos-stack';\n",
      "    \n",
      "  email        id  name  type                                         url  \\\n",
      "0  null  10464486  null  User     https://api.github.com/users/jolivier23   \n",
      "1  null  32652776  null  User        https://api.github.com/users/wangdi1   \n",
      "2  null   5822721  null  User  https://api.github.com/users/ashleypittman   \n",
      "3  null   3277648  null  User       https://api.github.com/users/tanabarr   \n",
      "4  null   1791869  null  User     https://api.github.com/users/liuxuezhao   \n",
      "\n",
      "        username  \n",
      "0     jolivier23  \n",
      "1        wangdi1  \n",
      "2  ashleypittman  \n",
      "3       tanabarr  \n",
      "4     liuxuezhao  \n"
     ]
    }
   ],
   "source": [
    "### get user\n",
    "#github.repos.contributors\n",
    "def get_contributors_of_repo(repo, owner):\n",
    "    query = \"\"\"\n",
    "    SELECT name, email, id, type, url\n",
    "    FROM github.repos.contributors\n",
    "    where repo = '%s' AND owner = '%s';\n",
    "    \"\"\" % (repo, owner)\n",
    "    print(query)\n",
    "    data = get_dataframe_from_query(query)\n",
    "    return data\n",
    "contributors = get_contributors_of_repo(test_repo, test_owner)\n",
    "contributors['username'] =get_username_from_column(contributors['url'].to_list())\n",
    "print(contributors.head(5))\n"
   ]
  },
  {
   "cell_type": "markdown",
   "metadata": {},
   "source": [
    "Other interesting resources in the repo that you can use to check up developer's activity"
   ]
  },
  {
   "cell_type": "code",
   "execution_count": 17,
   "metadata": {},
   "outputs": [
    {
     "name": "stdout",
     "output_type": "stream",
     "text": [
      "  assignee_url pull_number state                                   user_url  \\\n",
      "0         null        9722  open  https://api.github.com/users/JohnMalmberg   \n",
      "1         null        9721  open       https://api.github.com/users/phender   \n",
      "\n",
      "  assignee_username      username  \n",
      "0              None  JohnMalmberg  \n",
      "1              None       phender  \n"
     ]
    }
   ],
   "source": [
    "def get_pull_requests(repo, owner):\n",
    "    #github.pulls.pull_requests\n",
    "    query = \"\"\"\n",
    "    SELECT \n",
    "    number as pull_number, \n",
    "    JSON_EXTRACT(assignee, '$.url') as assignee_url, \n",
    "    JSON_EXTRACT(user, '$.url') as user_url, \n",
    "    state\n",
    "    FROM github.pulls.pull_requests\n",
    "    where repo = '%s' AND owner = '%s'\n",
    "    \"\"\" % (repo, owner)\n",
    "    pull_requests = get_dataframe_from_query(query)\n",
    "    pull_requests['assignee_username'] =get_username_from_column(pull_requests['assignee_url'].to_list())\n",
    "    pull_requests['username'] =get_username_from_column(pull_requests['user_url'].to_list())\n",
    "    return pull_requests;\n",
    "pull_requests = get_pull_requests(test_repo, test_owner)\n",
    "print(pull_requests.head(2))\n"
   ]
  },
  {
   "cell_type": "code",
   "execution_count": 21,
   "metadata": {},
   "outputs": [
    {
     "name": "stdout",
     "output_type": "stream",
     "text": [
      "                                                 body      state  \\\n",
      "0               LGTM.  No errors found by checkpatch.  COMMENTED   \n",
      "1               LGTM.  No errors found by checkpatch.  COMMENTED   \n",
      "2               LGTM.  No errors found by checkpatch.  COMMENTED   \n",
      "3               LGTM.  No errors found by checkpatch.  COMMENTED   \n",
      "4               LGTM.  No errors found by checkpatch.  COMMENTED   \n",
      "5               LGTM.  No errors found by checkpatch.  COMMENTED   \n",
      "6               LGTM.  No errors found by checkpatch.  COMMENTED   \n",
      "7   Style warning(s) for job https://build.hpdd.in...  DISMISSED   \n",
      "8                                                      COMMENTED   \n",
      "9                                                      COMMENTED   \n",
      "10                                                     COMMENTED   \n",
      "11              LGTM.  No errors found by checkpatch.  COMMENTED   \n",
      "12              LGTM.  No errors found by checkpatch.  COMMENTED   \n",
      "13              LGTM.  No errors found by checkpatch.  COMMENTED   \n",
      "14              LGTM.  No errors found by checkpatch.  COMMENTED   \n",
      "15              LGTM.  No errors found by checkpatch.  COMMENTED   \n",
      "16              LGTM.  No errors found by checkpatch.  COMMENTED   \n",
      "17              LGTM.  No errors found by checkpatch.  COMMENTED   \n",
      "\n",
      "                                      user_url       username  \n",
      "0      https://api.github.com/users/daosbuild1     daosbuild1  \n",
      "1      https://api.github.com/users/daosbuild1     daosbuild1  \n",
      "2      https://api.github.com/users/daosbuild1     daosbuild1  \n",
      "3      https://api.github.com/users/daosbuild1     daosbuild1  \n",
      "4      https://api.github.com/users/daosbuild1     daosbuild1  \n",
      "5      https://api.github.com/users/daosbuild1     daosbuild1  \n",
      "6      https://api.github.com/users/daosbuild1     daosbuild1  \n",
      "7      https://api.github.com/users/daosbuild1     daosbuild1  \n",
      "8   https://api.github.com/users/daltonbohning  daltonbohning  \n",
      "9   https://api.github.com/users/daltonbohning  daltonbohning  \n",
      "10  https://api.github.com/users/daltonbohning  daltonbohning  \n",
      "11     https://api.github.com/users/daosbuild1     daosbuild1  \n",
      "12     https://api.github.com/users/daosbuild1     daosbuild1  \n",
      "13     https://api.github.com/users/daosbuild1     daosbuild1  \n",
      "14     https://api.github.com/users/daosbuild1     daosbuild1  \n",
      "15     https://api.github.com/users/daosbuild1     daosbuild1  \n",
      "16     https://api.github.com/users/daosbuild1     daosbuild1  \n",
      "17     https://api.github.com/users/daosbuild1     daosbuild1  \n"
     ]
    }
   ],
   "source": [
    "def get_pull_request_reviews(pull_number, repo, owner):\n",
    "    #github.pulls.reviews\n",
    "    query = \"\"\"\n",
    "    SELECT JSON_EXTRACT(user, '$.url') as user_url, state, body\n",
    "    FROM github.pulls.reviews\n",
    "    where repo = '%s' AND owner = '%s' AND pull_number = %s\n",
    "    \"\"\" % (repo, owner, pull_number)\n",
    "    try:\n",
    "        pull_requests_reviews = get_dataframe_from_query(query)\n",
    "        pull_requests_reviews['username'] =get_username_from_column(pull_requests_reviews['user_url'].to_list())\n",
    "        return pull_requests_reviews;\n",
    "    except(TypeError):\n",
    "        raise TypeError\n",
    "        \n",
    "  \n",
    "\n",
    "print(get_pull_request_reviews(9656, test_repo, test_owner))\n"
   ]
  },
  {
   "cell_type": "code",
   "execution_count": 58,
   "metadata": {},
   "outputs": [
    {
     "name": "stdout",
     "output_type": "stream",
     "text": [
      "getting reviews for pull number 9722\n",
      "('StackQL execute error with error: Expecting \\',\\' delimiter: line 1 column 36 (char 35), res: [{\"error\": \"HTTP response error: {\"documentation_url\":\"https://docs.github.com/rest/overview/resources-in-the-rest-api#rate-limiting\",\"message\":\"API rate limit exceeded for 14.201.196.52. (But here\\'s the good news: Authenticated requests get a higher rate limit. Check out the documentation for more details.)\"}\"}], error type: <class \\'json.decoder.JSONDecodeError\\'>, res type: <class \\'str\\'>', \"Expecting ',' delimiter: line 1 column 36 (char 35)\")\n"
     ]
    }
   ],
   "source": [
    "def get_reviews_for_pull_requests(pull_numbers: list, repo, owner, limit=100):\n",
    "    ##loop pull requests data\n",
    "    reviews_frames = []\n",
    "    pull_numbers = pull_numbers[0:limit]\n",
    "    for pull_number in pull_numbers:\n",
    "        try:\n",
    "            print('getting reviews for pull number %s' % pull_number)\n",
    "            reviews = get_pull_request_reviews(pull_number, repo, owner)\n",
    "            if reviews is not None and not reviews.empty:\n",
    "                reviews_frames.append(reviews)\n",
    "        except Exception as error:\n",
    "            print(error)\n",
    "            if isinstance(error, TypeError):\n",
    "                continue\n",
    "            else:\n",
    "                return;\n",
    "            \n",
    "    return pd.concat(reviews_frames);\n",
    "\n",
    "reviews_data = get_reviews_for_pull_requests(pull_requests['pull_number'].to_list(), test_repo, test_owner, limit=1)\n"
   ]
  },
  {
   "cell_type": "code",
   "execution_count": 30,
   "metadata": {},
   "outputs": [
    {
     "name": "stdout",
     "output_type": "stream",
     "text": [
      "                                                body      state  \\\n",
      "2  LGTM.  No errors found by checkpatch.\\n\\nFYI: ...  COMMENTED   \n",
      "\n",
      "                                  user_url    username  \n",
      "2  https://api.github.com/users/daosbuild1  daosbuild1  \n"
     ]
    }
   ],
   "source": [
    "reviews = reviews_data.copy()\n",
    "reviews['username'] = get_username_from_column(reviews['user_url'].to_list())\n",
    "print(reviews.tail(1))"
   ]
  },
  {
   "cell_type": "code",
   "execution_count": 40,
   "metadata": {},
   "outputs": [
    {
     "ename": "TypeError",
     "evalue": "'NoneType' object is not subscriptable",
     "output_type": "error",
     "traceback": [
      "\u001b[0;31m---------------------------------------------------------------------------\u001b[0m",
      "\u001b[0;31mTypeError\u001b[0m                                 Traceback (most recent call last)",
      "\u001b[1;32m/Users/yunchengyang/Projects/Storyscore/storyscore-data/pipelines/github/github_connector.ipynb Cell 30'\u001b[0m in \u001b[0;36m<cell line: 15>\u001b[0;34m()\u001b[0m\n\u001b[1;32m     <a href='vscode-notebook-cell:/Users/yunchengyang/Projects/Storyscore/storyscore-data/pipelines/github/github_connector.ipynb#ch0000029?line=11'>12</a>\u001b[0m     activities[\u001b[39m'\u001b[39m\u001b[39mrepo\u001b[39m\u001b[39m'\u001b[39m] \u001b[39m=\u001b[39m repo\n\u001b[1;32m     <a href='vscode-notebook-cell:/Users/yunchengyang/Projects/Storyscore/storyscore-data/pipelines/github/github_connector.ipynb#ch0000029?line=12'>13</a>\u001b[0m     \u001b[39mreturn\u001b[39;00m activities;\n\u001b[0;32m---> <a href='vscode-notebook-cell:/Users/yunchengyang/Projects/Storyscore/storyscore-data/pipelines/github/github_connector.ipynb#ch0000029?line=14'>15</a>\u001b[0m activities \u001b[39m=\u001b[39m get_user_activity(contributors, commits, reviews, pull_requests, test_owner, test_repo)\n\u001b[1;32m     <a href='vscode-notebook-cell:/Users/yunchengyang/Projects/Storyscore/storyscore-data/pipelines/github/github_connector.ipynb#ch0000029?line=15'>16</a>\u001b[0m \u001b[39mprint\u001b[39m(activities\u001b[39m.\u001b[39mhead(\u001b[39m1\u001b[39m)\u001b[39m.\u001b[39mto_dict())\n",
      "\u001b[1;32m/Users/yunchengyang/Projects/Storyscore/storyscore-data/pipelines/github/github_connector.ipynb Cell 30'\u001b[0m in \u001b[0;36mget_user_activity\u001b[0;34m(users, commits, reviews, pull_requests, owner, repo)\u001b[0m\n\u001b[1;32m      <a href='vscode-notebook-cell:/Users/yunchengyang/Projects/Storyscore/storyscore-data/pipelines/github/github_connector.ipynb#ch0000029?line=7'>8</a>\u001b[0m \u001b[39mdef\u001b[39;00m \u001b[39mget_user_activity\u001b[39m(users: pd\u001b[39m.\u001b[39mDataFrame, commits: pd\u001b[39m.\u001b[39mDataFrame,  reviews: pd\u001b[39m.\u001b[39mDataFrame, pull_requests: pd\u001b[39m.\u001b[39mDataFrame, owner, repo):\n\u001b[1;32m      <a href='vscode-notebook-cell:/Users/yunchengyang/Projects/Storyscore/storyscore-data/pipelines/github/github_connector.ipynb#ch0000029?line=8'>9</a>\u001b[0m     \u001b[39m#avoid rate limit\u001b[39;00m\n\u001b[0;32m---> <a href='vscode-notebook-cell:/Users/yunchengyang/Projects/Storyscore/storyscore-data/pipelines/github/github_connector.ipynb#ch0000029?line=9'>10</a>\u001b[0m     activities \u001b[39m=\u001b[39m users\u001b[39m.\u001b[39;49mapply(aggregate_user_activity, args\u001b[39m=\u001b[39;49m(commits, reviews, pull_requests), axis\u001b[39m=\u001b[39;49m\u001b[39m1\u001b[39;49m)\n\u001b[1;32m     <a href='vscode-notebook-cell:/Users/yunchengyang/Projects/Storyscore/storyscore-data/pipelines/github/github_connector.ipynb#ch0000029?line=10'>11</a>\u001b[0m     activities[\u001b[39m'\u001b[39m\u001b[39mowner\u001b[39m\u001b[39m'\u001b[39m] \u001b[39m=\u001b[39m owner;\n\u001b[1;32m     <a href='vscode-notebook-cell:/Users/yunchengyang/Projects/Storyscore/storyscore-data/pipelines/github/github_connector.ipynb#ch0000029?line=11'>12</a>\u001b[0m     activities[\u001b[39m'\u001b[39m\u001b[39mrepo\u001b[39m\u001b[39m'\u001b[39m] \u001b[39m=\u001b[39m repo\n",
      "File \u001b[0;32m~/Projects/Storyscore/storyscore-data/venv/lib/python3.8/site-packages/pandas/core/frame.py:8845\u001b[0m, in \u001b[0;36mDataFrame.apply\u001b[0;34m(self, func, axis, raw, result_type, args, **kwargs)\u001b[0m\n\u001b[1;32m   <a href='file:///Users/yunchengyang/Projects/Storyscore/storyscore-data/venv/lib/python3.8/site-packages/pandas/core/frame.py?line=8833'>8834</a>\u001b[0m \u001b[39mfrom\u001b[39;00m \u001b[39mpandas\u001b[39;00m\u001b[39m.\u001b[39;00m\u001b[39mcore\u001b[39;00m\u001b[39m.\u001b[39;00m\u001b[39mapply\u001b[39;00m \u001b[39mimport\u001b[39;00m frame_apply\n\u001b[1;32m   <a href='file:///Users/yunchengyang/Projects/Storyscore/storyscore-data/venv/lib/python3.8/site-packages/pandas/core/frame.py?line=8835'>8836</a>\u001b[0m op \u001b[39m=\u001b[39m frame_apply(\n\u001b[1;32m   <a href='file:///Users/yunchengyang/Projects/Storyscore/storyscore-data/venv/lib/python3.8/site-packages/pandas/core/frame.py?line=8836'>8837</a>\u001b[0m     \u001b[39mself\u001b[39m,\n\u001b[1;32m   <a href='file:///Users/yunchengyang/Projects/Storyscore/storyscore-data/venv/lib/python3.8/site-packages/pandas/core/frame.py?line=8837'>8838</a>\u001b[0m     func\u001b[39m=\u001b[39mfunc,\n\u001b[0;32m   (...)\u001b[0m\n\u001b[1;32m   <a href='file:///Users/yunchengyang/Projects/Storyscore/storyscore-data/venv/lib/python3.8/site-packages/pandas/core/frame.py?line=8842'>8843</a>\u001b[0m     kwargs\u001b[39m=\u001b[39mkwargs,\n\u001b[1;32m   <a href='file:///Users/yunchengyang/Projects/Storyscore/storyscore-data/venv/lib/python3.8/site-packages/pandas/core/frame.py?line=8843'>8844</a>\u001b[0m )\n\u001b[0;32m-> <a href='file:///Users/yunchengyang/Projects/Storyscore/storyscore-data/venv/lib/python3.8/site-packages/pandas/core/frame.py?line=8844'>8845</a>\u001b[0m \u001b[39mreturn\u001b[39;00m op\u001b[39m.\u001b[39;49mapply()\u001b[39m.\u001b[39m__finalize__(\u001b[39mself\u001b[39m, method\u001b[39m=\u001b[39m\u001b[39m\"\u001b[39m\u001b[39mapply\u001b[39m\u001b[39m\"\u001b[39m)\n",
      "File \u001b[0;32m~/Projects/Storyscore/storyscore-data/venv/lib/python3.8/site-packages/pandas/core/apply.py:733\u001b[0m, in \u001b[0;36mFrameApply.apply\u001b[0;34m(self)\u001b[0m\n\u001b[1;32m    <a href='file:///Users/yunchengyang/Projects/Storyscore/storyscore-data/venv/lib/python3.8/site-packages/pandas/core/apply.py?line=729'>730</a>\u001b[0m \u001b[39melif\u001b[39;00m \u001b[39mself\u001b[39m\u001b[39m.\u001b[39mraw:\n\u001b[1;32m    <a href='file:///Users/yunchengyang/Projects/Storyscore/storyscore-data/venv/lib/python3.8/site-packages/pandas/core/apply.py?line=730'>731</a>\u001b[0m     \u001b[39mreturn\u001b[39;00m \u001b[39mself\u001b[39m\u001b[39m.\u001b[39mapply_raw()\n\u001b[0;32m--> <a href='file:///Users/yunchengyang/Projects/Storyscore/storyscore-data/venv/lib/python3.8/site-packages/pandas/core/apply.py?line=732'>733</a>\u001b[0m \u001b[39mreturn\u001b[39;00m \u001b[39mself\u001b[39;49m\u001b[39m.\u001b[39;49mapply_standard()\n",
      "File \u001b[0;32m~/Projects/Storyscore/storyscore-data/venv/lib/python3.8/site-packages/pandas/core/apply.py:857\u001b[0m, in \u001b[0;36mFrameApply.apply_standard\u001b[0;34m(self)\u001b[0m\n\u001b[1;32m    <a href='file:///Users/yunchengyang/Projects/Storyscore/storyscore-data/venv/lib/python3.8/site-packages/pandas/core/apply.py?line=855'>856</a>\u001b[0m \u001b[39mdef\u001b[39;00m \u001b[39mapply_standard\u001b[39m(\u001b[39mself\u001b[39m):\n\u001b[0;32m--> <a href='file:///Users/yunchengyang/Projects/Storyscore/storyscore-data/venv/lib/python3.8/site-packages/pandas/core/apply.py?line=856'>857</a>\u001b[0m     results, res_index \u001b[39m=\u001b[39m \u001b[39mself\u001b[39;49m\u001b[39m.\u001b[39;49mapply_series_generator()\n\u001b[1;32m    <a href='file:///Users/yunchengyang/Projects/Storyscore/storyscore-data/venv/lib/python3.8/site-packages/pandas/core/apply.py?line=858'>859</a>\u001b[0m     \u001b[39m# wrap results\u001b[39;00m\n\u001b[1;32m    <a href='file:///Users/yunchengyang/Projects/Storyscore/storyscore-data/venv/lib/python3.8/site-packages/pandas/core/apply.py?line=859'>860</a>\u001b[0m     \u001b[39mreturn\u001b[39;00m \u001b[39mself\u001b[39m\u001b[39m.\u001b[39mwrap_results(results, res_index)\n",
      "File \u001b[0;32m~/Projects/Storyscore/storyscore-data/venv/lib/python3.8/site-packages/pandas/core/apply.py:873\u001b[0m, in \u001b[0;36mFrameApply.apply_series_generator\u001b[0;34m(self)\u001b[0m\n\u001b[1;32m    <a href='file:///Users/yunchengyang/Projects/Storyscore/storyscore-data/venv/lib/python3.8/site-packages/pandas/core/apply.py?line=869'>870</a>\u001b[0m \u001b[39mwith\u001b[39;00m option_context(\u001b[39m\"\u001b[39m\u001b[39mmode.chained_assignment\u001b[39m\u001b[39m\"\u001b[39m, \u001b[39mNone\u001b[39;00m):\n\u001b[1;32m    <a href='file:///Users/yunchengyang/Projects/Storyscore/storyscore-data/venv/lib/python3.8/site-packages/pandas/core/apply.py?line=870'>871</a>\u001b[0m     \u001b[39mfor\u001b[39;00m i, v \u001b[39min\u001b[39;00m \u001b[39menumerate\u001b[39m(series_gen):\n\u001b[1;32m    <a href='file:///Users/yunchengyang/Projects/Storyscore/storyscore-data/venv/lib/python3.8/site-packages/pandas/core/apply.py?line=871'>872</a>\u001b[0m         \u001b[39m# ignore SettingWithCopy here in case the user mutates\u001b[39;00m\n\u001b[0;32m--> <a href='file:///Users/yunchengyang/Projects/Storyscore/storyscore-data/venv/lib/python3.8/site-packages/pandas/core/apply.py?line=872'>873</a>\u001b[0m         results[i] \u001b[39m=\u001b[39m \u001b[39mself\u001b[39;49m\u001b[39m.\u001b[39;49mf(v)\n\u001b[1;32m    <a href='file:///Users/yunchengyang/Projects/Storyscore/storyscore-data/venv/lib/python3.8/site-packages/pandas/core/apply.py?line=873'>874</a>\u001b[0m         \u001b[39mif\u001b[39;00m \u001b[39misinstance\u001b[39m(results[i], ABCSeries):\n\u001b[1;32m    <a href='file:///Users/yunchengyang/Projects/Storyscore/storyscore-data/venv/lib/python3.8/site-packages/pandas/core/apply.py?line=874'>875</a>\u001b[0m             \u001b[39m# If we have a view on v, we need to make a copy because\u001b[39;00m\n\u001b[1;32m    <a href='file:///Users/yunchengyang/Projects/Storyscore/storyscore-data/venv/lib/python3.8/site-packages/pandas/core/apply.py?line=875'>876</a>\u001b[0m             \u001b[39m#  series_generator will swap out the underlying data\u001b[39;00m\n\u001b[1;32m    <a href='file:///Users/yunchengyang/Projects/Storyscore/storyscore-data/venv/lib/python3.8/site-packages/pandas/core/apply.py?line=876'>877</a>\u001b[0m             results[i] \u001b[39m=\u001b[39m results[i]\u001b[39m.\u001b[39mcopy(deep\u001b[39m=\u001b[39m\u001b[39mFalse\u001b[39;00m)\n",
      "File \u001b[0;32m~/Projects/Storyscore/storyscore-data/venv/lib/python3.8/site-packages/pandas/core/apply.py:138\u001b[0m, in \u001b[0;36mApply.__init__.<locals>.f\u001b[0;34m(x)\u001b[0m\n\u001b[1;32m    <a href='file:///Users/yunchengyang/Projects/Storyscore/storyscore-data/venv/lib/python3.8/site-packages/pandas/core/apply.py?line=136'>137</a>\u001b[0m \u001b[39mdef\u001b[39;00m \u001b[39mf\u001b[39m(x):\n\u001b[0;32m--> <a href='file:///Users/yunchengyang/Projects/Storyscore/storyscore-data/venv/lib/python3.8/site-packages/pandas/core/apply.py?line=137'>138</a>\u001b[0m     \u001b[39mreturn\u001b[39;00m func(x, \u001b[39m*\u001b[39;49margs, \u001b[39m*\u001b[39;49m\u001b[39m*\u001b[39;49mkwargs)\n",
      "\u001b[1;32m/Users/yunchengyang/Projects/Storyscore/storyscore-data/pipelines/github/github_connector.ipynb Cell 30'\u001b[0m in \u001b[0;36maggregate_user_activity\u001b[0;34m(row, commits, reviews, pull_requests)\u001b[0m\n\u001b[1;32m      <a href='vscode-notebook-cell:/Users/yunchengyang/Projects/Storyscore/storyscore-data/pipelines/github/github_connector.ipynb#ch0000029?line=2'>3</a>\u001b[0m row[\u001b[39m'\u001b[39m\u001b[39mcommits\u001b[39m\u001b[39m'\u001b[39m] \u001b[39m=\u001b[39m commits[commits[\u001b[39m'\u001b[39m\u001b[39musername\u001b[39m\u001b[39m'\u001b[39m] \u001b[39m==\u001b[39m username]\n\u001b[1;32m      <a href='vscode-notebook-cell:/Users/yunchengyang/Projects/Storyscore/storyscore-data/pipelines/github/github_connector.ipynb#ch0000029?line=3'>4</a>\u001b[0m row[\u001b[39m'\u001b[39m\u001b[39mpull_requests\u001b[39m\u001b[39m'\u001b[39m] \u001b[39m=\u001b[39m pull_requests[pull_requests[\u001b[39m'\u001b[39m\u001b[39musername\u001b[39m\u001b[39m'\u001b[39m] \u001b[39m==\u001b[39m username]\n\u001b[0;32m----> <a href='vscode-notebook-cell:/Users/yunchengyang/Projects/Storyscore/storyscore-data/pipelines/github/github_connector.ipynb#ch0000029?line=4'>5</a>\u001b[0m row[\u001b[39m'\u001b[39m\u001b[39mreviews\u001b[39m\u001b[39m'\u001b[39m] \u001b[39m=\u001b[39m reviews[reviews[\u001b[39m'\u001b[39;49m\u001b[39musername\u001b[39;49m\u001b[39m'\u001b[39;49m] \u001b[39m==\u001b[39m username] \n\u001b[1;32m      <a href='vscode-notebook-cell:/Users/yunchengyang/Projects/Storyscore/storyscore-data/pipelines/github/github_connector.ipynb#ch0000029?line=5'>6</a>\u001b[0m \u001b[39mreturn\u001b[39;00m row\n",
      "\u001b[0;31mTypeError\u001b[0m: 'NoneType' object is not subscriptable"
     ]
    }
   ],
   "source": [
    "def aggregate_user_activity (row, commits: pd.DataFrame,  reviews: pd.DataFrame, pull_requests: pd.DataFrame):\n",
    "    username = row['username']\n",
    "    row['commits'] = commits[commits['username'] == username]\n",
    "    row['pull_requests'] = pull_requests[pull_requests['username'] == username]\n",
    "    row['reviews'] = reviews[reviews['username'] == username] \n",
    "    return row\n",
    "\n",
    "def get_user_activity(users: pd.DataFrame, commits: pd.DataFrame,  reviews: pd.DataFrame, pull_requests: pd.DataFrame, owner, repo):\n",
    "    #avoid rate limit\n",
    "    activities = users.apply(aggregate_user_activity, args=(commits, reviews, pull_requests), axis=1)\n",
    "    activities['owner'] = owner;\n",
    "    activities['repo'] = repo\n",
    "    return activities;\n",
    "\n",
    "activities = get_user_activity(contributors, commits, reviews, pull_requests, test_owner, test_repo)\n",
    "print(activities.head(1).to_dict())"
   ]
  },
  {
   "cell_type": "markdown",
   "metadata": {},
   "source": [
    "## Upload results "
   ]
  },
  {
   "cell_type": "code",
   "execution_count": 43,
   "metadata": {},
   "outputs": [
    {
     "name": "stdout",
     "output_type": "stream",
     "text": [
      "storyscore-356114.test_dataset.test_table\n"
     ]
    }
   ],
   "source": [
    "import db.bigquery.data as bg\n",
    "import db.bigquery.schemas as schemas\n",
    "def upload_user_activity(activity_dataframe: pd.DataFrame):\n",
    "    dataset = 'github'\n",
    "    table_name = 'user_activity'\n",
    "    table_id = bg.get_table_id(dataset, table_name)\n",
    "    config = bg.create_load_job_config(schemas.activity_schema)\n",
    "    bg.upload_dataframe(activity_dataframe, table_id, config)\n",
    "    return\n"
   ]
  }
 ],
 "metadata": {
  "interpreter": {
   "hash": "112539a114e53e07d0d40516414ef3f03c8b19d5bd93611aadd0ca1ac465dfd7"
  },
  "kernelspec": {
   "display_name": "Python 3.8.9 ('venv': venv)",
   "language": "python",
   "name": "python3"
  },
  "language_info": {
   "codemirror_mode": {
    "name": "ipython",
    "version": 3
   },
   "file_extension": ".py",
   "mimetype": "text/x-python",
   "name": "python",
   "nbconvert_exporter": "python",
   "pygments_lexer": "ipython3",
   "version": "3.8.9"
  },
  "orig_nbformat": 4
 },
 "nbformat": 4,
 "nbformat_minor": 2
}
