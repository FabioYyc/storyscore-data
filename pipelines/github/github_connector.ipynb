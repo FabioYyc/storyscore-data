{
 "cells": [
  {
   "cell_type": "markdown",
   "metadata": {},
   "source": [
    "## Set up the dependencies and configurations"
   ]
  },
  {
   "cell_type": "markdown",
   "metadata": {},
   "source": [
    "###  Assumption: you have downloaded stackql and is in your system path\n",
    "Follow [this instruction to install](https://stackql.io/downloads)"
   ]
  },
  {
   "cell_type": "markdown",
   "metadata": {},
   "source": [
    "### Append system path so we can use other modules"
   ]
  },
  {
   "cell_type": "code",
   "execution_count": 24,
   "metadata": {},
   "outputs": [
    {
     "name": "stdout",
     "output_type": "stream",
     "text": [
      "/Users/yunchengyang/Projects/Storyscore/storyscore-data\n"
     ]
    }
   ],
   "source": [
    "import sys \n",
    "import settings\n",
    "project_root = str(settings.get_project_root())\n",
    "print(project_root)\n",
    "sys.path.append(project_root)"
   ]
  },
  {
   "cell_type": "markdown",
   "metadata": {},
   "source": [
    "### setup stackql"
   ]
  },
  {
   "cell_type": "code",
   "execution_count": 25,
   "metadata": {},
   "outputs": [],
   "source": [
    "from pystackql import StackQL\n",
    "import json \n",
    "import os\n",
    "import pandas as pd"
   ]
  },
  {
   "cell_type": "code",
   "execution_count": 26,
   "metadata": {},
   "outputs": [],
   "source": [
    "os.environ['GITHUB_CREDS'] = \"b60db0573b17fdf5e12a:2bc5d338d11e71aa0d60ddfca5f971208c009792\"\n",
    "auth = { \n",
    "    \"github\": \n",
    "      { \"type\": \"basic\", \"credentialsenvvar\": \"GITHUB_CREDS\" }\n",
    "}\n",
    "stackql_path = project_root + '/.stackql'\n",
    "iql = StackQL(auth=json.dumps(auth))"
   ]
  },
  {
   "cell_type": "markdown",
   "metadata": {},
   "source": [
    "To make the script easy to duplicate in any environment, we will use pystackql to pull the github provider from registry"
   ]
  },
  {
   "cell_type": "code",
   "execution_count": 27,
   "metadata": {},
   "outputs": [
    {
     "name": "stdout",
     "output_type": "stream",
     "text": [
      "v0.3.2\n",
      "\n",
      "REGISTRY PULL github v0.3.2;\n",
      "\n",
      "[{\"error\": \"github provider, version 'v0.3.2' successfully installed\"}]\n"
     ]
    }
   ],
   "source": [
    "## pull github registry\n",
    "registry_res = iql.execute('REGISTRY LIST;')\n",
    "registry_list = json.loads(registry_res)\n",
    "github_registry = list(filter(lambda reg: reg[\"provider\"] == 'github', registry_list))[0]\n",
    "github_version = github_registry['version']\n",
    "\n",
    "print(github_version)\n",
    "\n",
    "pull_provider_query = \"\"\"\n",
    "REGISTRY PULL github %s;\n",
    "\"\"\" % github_version\n",
    "\n",
    "print(pull_provider_query)\n",
    "\n",
    "res = iql.execute(pull_provider_query)\n",
    "\n",
    "print(res)\n"
   ]
  },
  {
   "cell_type": "markdown",
   "metadata": {},
   "source": [
    "## Using Github provider\n",
    "We will use [Intel open source DAOS project](https://github.com/daos-stack/daos) as example "
   ]
  },
  {
   "cell_type": "code",
   "execution_count": 28,
   "metadata": {},
   "outputs": [],
   "source": [
    "org_name = 'stackql'"
   ]
  },
  {
   "cell_type": "markdown",
   "metadata": {},
   "source": [
    "### Overview\n",
    "First lets look at what we can get from the Github provider"
   ]
  },
  {
   "cell_type": "code",
   "execution_count": 29,
   "metadata": {},
   "outputs": [],
   "source": [
    "def get_dataframe_from_query(query: str) -> pd.DataFrame :\n",
    "    res = iql.execute(query)\n",
    "    try: \n",
    "        res_obj = json.loads(res)\n",
    "        if not res_obj:\n",
    "            return;\n",
    "        if \"error\" in res_obj[0]:\n",
    "            print(res)\n",
    "            raise AttributeError(res_obj)\n",
    "        data = pd.DataFrame.from_dict(res_obj)\n",
    "        return data\n",
    "    except:\n",
    "        print(type(res))\n",
    "        print(res)\n",
    "        raise TypeError(res)\n"
   ]
  },
  {
   "cell_type": "code",
   "execution_count": 30,
   "metadata": {},
   "outputs": [
    {
     "name": "stdout",
     "output_type": "stream",
     "text": [
      "                                              id  \\\n",
      "0               github.repos.access_restrictions   \n",
      "1           github.repos.admin_branch_protection   \n",
      "2                        github.repos.app_access   \n",
      "3                         github.repos.autolinks   \n",
      "4                 github.repos.branch_protection   \n",
      "5                          github.repos.branches   \n",
      "6                     github.repos.clone_traffic   \n",
      "7    github.repos.collaborator_permission_levels   \n",
      "8                     github.repos.collaborators   \n",
      "9                 github.repos.combined_statuses   \n",
      "10                         github.repos.comments   \n",
      "11                  github.repos.commit_branches   \n",
      "12             github.repos.commit_pull_requests   \n",
      "13                          github.repos.commits   \n",
      "14                        github.repos.community   \n",
      "15                  github.repos.content_traffic   \n",
      "16                         github.repos.contents   \n",
      "17                     github.repos.contributors   \n",
      "18              github.repos.deployment_statuses   \n",
      "19                      github.repos.deployments   \n",
      "20                     github.repos.environments   \n",
      "21                            github.repos.forks   \n",
      "22                      github.repos.invitations   \n",
      "23                             github.repos.keys   \n",
      "24                  github.repos.latest_releases   \n",
      "25                              github.repos.lfs   \n",
      "26                          github.repos.merging   \n",
      "27                            github.repos.pages   \n",
      "28               github.repos.pages_build_latest   \n",
      "29                     github.repos.pages_builds   \n",
      "30              github.repos.pages_health_checks   \n",
      "31                     github.repos.public_repos   \n",
      "32                 github.repos.referrer_traffic   \n",
      "33                   github.repos.release_assets   \n",
      "34                         github.repos.releases   \n",
      "35                            github.repos.repos   \n",
      "36    github.repos.required_pull_request_reviews   \n",
      "37              github.repos.required_signatures   \n",
      "38           github.repos.required_status_checks   \n",
      "39        github.repos.statistics_code_frequency   \n",
      "40       github.repos.statistics_commit_activity   \n",
      "41  github.repos.statistics_contributor_activity   \n",
      "42         github.repos.statistics_participation   \n",
      "43           github.repos.statistics_punch_cards   \n",
      "44            github.repos.status_check_contexts   \n",
      "45                         github.repos.statuses   \n",
      "46                             github.repos.tags   \n",
      "47                      github.repos.team_access   \n",
      "48                            github.repos.teams   \n",
      "49                           github.repos.topics   \n",
      "50                          github.repos.traffic   \n",
      "51                      github.repos.user_access   \n",
      "52                   github.repos.webhook_config   \n",
      "53               github.repos.webhook_deliveries   \n",
      "54                         github.repos.webhooks   \n",
      "\n",
      "                               name  \n",
      "0               access_restrictions  \n",
      "1           admin_branch_protection  \n",
      "2                        app_access  \n",
      "3                         autolinks  \n",
      "4                 branch_protection  \n",
      "5                          branches  \n",
      "6                     clone_traffic  \n",
      "7    collaborator_permission_levels  \n",
      "8                     collaborators  \n",
      "9                 combined_statuses  \n",
      "10                         comments  \n",
      "11                  commit_branches  \n",
      "12             commit_pull_requests  \n",
      "13                          commits  \n",
      "14                        community  \n",
      "15                  content_traffic  \n",
      "16                         contents  \n",
      "17                     contributors  \n",
      "18              deployment_statuses  \n",
      "19                      deployments  \n",
      "20                     environments  \n",
      "21                            forks  \n",
      "22                      invitations  \n",
      "23                             keys  \n",
      "24                  latest_releases  \n",
      "25                              lfs  \n",
      "26                          merging  \n",
      "27                            pages  \n",
      "28               pages_build_latest  \n",
      "29                     pages_builds  \n",
      "30              pages_health_checks  \n",
      "31                     public_repos  \n",
      "32                 referrer_traffic  \n",
      "33                   release_assets  \n",
      "34                         releases  \n",
      "35                            repos  \n",
      "36    required_pull_request_reviews  \n",
      "37              required_signatures  \n",
      "38           required_status_checks  \n",
      "39        statistics_code_frequency  \n",
      "40       statistics_commit_activity  \n",
      "41  statistics_contributor_activity  \n",
      "42         statistics_participation  \n",
      "43           statistics_punch_cards  \n",
      "44            status_check_contexts  \n",
      "45                         statuses  \n",
      "46                             tags  \n",
      "47                      team_access  \n",
      "48                            teams  \n",
      "49                           topics  \n",
      "50                          traffic  \n",
      "51                      user_access  \n",
      "52                   webhook_config  \n",
      "53               webhook_deliveries  \n",
      "54                         webhooks  \n"
     ]
    }
   ],
   "source": [
    "### look at repos, commits and comments\n",
    "def show_resource():\n",
    "    query = 'show resources in github.repos'\n",
    "    data = get_dataframe_from_query(query)\n",
    "    \n",
    "    print(data)\n",
    "\n",
    "show_resource()\n"
   ]
  },
  {
   "cell_type": "code",
   "execution_count": 31,
   "metadata": {},
   "outputs": [
    {
     "name": "stdout",
     "output_type": "stream",
     "text": [
      "                name     type\n",
      "0                 id  integer\n",
      "1               name   string\n",
      "2        description   string\n",
      "3          pulls_url   string\n",
      "4           homepage   string\n",
      "..               ...      ...\n",
      "80    default_branch   string\n",
      "81             owner   object\n",
      "82      has_projects  boolean\n",
      "83  stargazers_count  integer\n",
      "84               url   string\n",
      "\n",
      "[85 rows x 2 columns]\n",
      "            name    type\n",
      "0   comments_url  string\n",
      "1          files   array\n",
      "2            url  string\n",
      "3        node_id  string\n",
      "4         author  object\n",
      "5         commit  object\n",
      "6            sha  string\n",
      "7       html_url  string\n",
      "8      committer  object\n",
      "9        parents   array\n",
      "10         stats  object\n"
     ]
    }
   ],
   "source": [
    "def describe_commit():\n",
    "    query = 'DESCRIBE github.repos.commits;'\n",
    "    data = get_dataframe_from_query(query)\n",
    "    \n",
    "    print(data)\n",
    "\n",
    "def describe_repos():\n",
    "    query = 'DESCRIBE github.repos.repos;'\n",
    "    data = get_dataframe_from_query(query)\n",
    "    \n",
    "    print(data)\n",
    "    \n",
    "describe_repos()\n",
    "\n",
    "describe_commit()\n"
   ]
  },
  {
   "cell_type": "markdown",
   "metadata": {},
   "source": [
    "### explore commit activity "
   ]
  },
  {
   "cell_type": "code",
   "execution_count": 32,
   "metadata": {},
   "outputs": [],
   "source": [
    "test_repo = 'daos'\n",
    "test_owner = 'daos-stack'"
   ]
  },
  {
   "cell_type": "code",
   "execution_count": 33,
   "metadata": {},
   "outputs": [
    {
     "name": "stdout",
     "output_type": "stream",
     "text": [
      "           id                         name\n",
      "0   409393414       fullstackchronicles.io\n",
      "1   424079013    docusaurus-plugin-hubspot\n",
      "2   425113738      gatsby-plugin-smartlook\n",
      "3   425366372  docusaurus-plugin-smartlook\n",
      "4   441087132    stackql-provider-registry\n",
      "5   443987542                      stackql\n",
      "6   446769762            go-openapistackql\n",
      "7   447051137                      go-spew\n",
      "8   448123925                   go-sqlite3\n",
      "9   448126348                       vitess\n",
      "10  448127673                     readline\n",
      "11  448127756                        color\n",
      "12  455730530                    pystackql\n",
      "13  456722161         stackql-jupyter-demo\n",
      "14  469681593                    psql-wire\n",
      "15  472680056            provider-doc-util\n",
      "16  474504182                go-suffix-map\n",
      "17  476492741              okta-pkce-login\n",
      "18  487689765             openapi-doc-util\n",
      "19  501046061      stackql-gcp-foundations\n",
      "20  504338261          registry.stackql.io\n",
      "21  506876993  google-discovery-to-openapi\n"
     ]
    }
   ],
   "source": [
    "def list_repos():\n",
    "    query = \"\"\"\n",
    "    select id, name\n",
    "    from github.repos.repos\n",
    "    where org = '%s';\n",
    "    \"\"\" % org_name\n",
    "    data = get_dataframe_from_query(query)\n",
    "    \n",
    "    print(data)\n",
    "list_repos()"
   ]
  },
  {
   "cell_type": "code",
   "execution_count": 34,
   "metadata": {},
   "outputs": [],
   "source": [
    "def get_username_from_url(url):\n",
    "    #https://api.github.com/users/jolivier23\n",
    "    try:\n",
    "        if url != None and url != 'null' and len(url):\n",
    "            return url.split('/users/')[1]\n",
    "        return None\n",
    "    except:\n",
    "        print('get user name from url error with url %s', url)"
   ]
  },
  {
   "cell_type": "code",
   "execution_count": 35,
   "metadata": {},
   "outputs": [],
   "source": [
    "def get_username_from_column(list_data: list):\n",
    "    return list(map(lambda url: get_username_from_url(url), list_data));\n"
   ]
  },
  {
   "cell_type": "code",
   "execution_count": 36,
   "metadata": {},
   "outputs": [
    {
     "name": "stdout",
     "output_type": "stream",
     "text": [
      "\n",
      "    SELECT name, email, id, type, url\n",
      "    FROM github.repos.contributors\n",
      "    where repo = 'daos' AND owner = 'daos-stack';\n",
      "    \n",
      "  email        id  name  type                                         url  \\\n",
      "0  null  10464486  null  User     https://api.github.com/users/jolivier23   \n",
      "1  null  32652776  null  User        https://api.github.com/users/wangdi1   \n",
      "2  null   5822721  null  User  https://api.github.com/users/ashleypittman   \n",
      "3  null   3277648  null  User       https://api.github.com/users/tanabarr   \n",
      "4  null   1791869  null  User     https://api.github.com/users/liuxuezhao   \n",
      "\n",
      "        username  \n",
      "0     jolivier23  \n",
      "1        wangdi1  \n",
      "2  ashleypittman  \n",
      "3       tanabarr  \n",
      "4     liuxuezhao  \n"
     ]
    }
   ],
   "source": [
    "### get the developers\n",
    "#github.repos.contributors\n",
    "def get_contributors_of_repo(repo, owner):\n",
    "    query = \"\"\"\n",
    "    SELECT name, email, id, type, url\n",
    "    FROM github.repos.contributors\n",
    "    where repo = '%s' AND owner = '%s';\n",
    "    \"\"\" % (repo, owner)\n",
    "    print(query)\n",
    "    data = get_dataframe_from_query(query)\n",
    "    return data\n",
    "contributor_data = get_contributors_of_repo(test_repo, test_owner)\n",
    "contributor_data['username'] = get_username_from_column(contributor_data['url'].to_list())\n",
    "print(contributor_data.head(5))"
   ]
  },
  {
   "cell_type": "code",
   "execution_count": 76,
   "metadata": {},
   "outputs": [],
   "source": [
    "\n",
    "def get_commits(repo, owner) :\n",
    "    query = \"\"\"\n",
    "    SELECT \n",
    "    JSON_EXTRACT(commit, '$.message') as message, \n",
    "    sha, \n",
    "    JSON_EXTRACT(author, '$.url') as url,\n",
    "    JSON_EXTRACT(commit, '$.author.date') as commit_date\n",
    "    FROM github.repos.commits \n",
    "    where repo = '%s' AND owner = '%s';\n",
    "    \"\"\" % (repo, owner)\n",
    "    data = get_dataframe_from_query(query)\n",
    "    # commits_json = data['commit'].to_list()\n",
    "    # commits = list(map(lambda commit: json.loads(commit), commits_json)) \n",
    "    # data['commit'] = commits   \n",
    "    return data\n",
    "\n",
    "commits = get_commits(test_repo, test_owner)\n",
    "commits['username'] = get_username_from_column(commits['url'].to_list())\n",
    "\n",
    "\n"
   ]
  },
  {
   "cell_type": "code",
   "execution_count": 77,
   "metadata": {},
   "outputs": [
    {
     "name": "stdout",
     "output_type": "stream",
     "text": [
      "{'commit_date': {0: '2022-07-14T12:53:35Z'}, 'message': {0: 'DAOS-11120 control: Fix block device size display (#9686)\\n\\nThe hwloc library produces size values in kB, but the\\r\\nprinting library expects bytes.\\r\\n\\r\\nSigned-off-by: Michael MacDonald <mjmac.macdonald@intel.com>'}, 'sha': {0: 'cc2c0aa679eca7eee5ab5aa11657dfa16ee605f2'}, 'url': {0: 'https://api.github.com/users/mjmac'}, 'username': {0: 'mjmac'}}\n"
     ]
    }
   ],
   "source": [
    "print(commits.head(1).to_dict())"
   ]
  },
  {
   "cell_type": "code",
   "execution_count": 38,
   "metadata": {},
   "outputs": [
    {
     "name": "stdout",
     "output_type": "stream",
     "text": [
      "\n",
      "    SELECT name, email, id, type, url\n",
      "    FROM github.repos.contributors\n",
      "    where repo = 'daos' AND owner = 'daos-stack';\n",
      "    \n",
      "  email        id  name  type                                         url  \\\n",
      "0  null  10464486  null  User     https://api.github.com/users/jolivier23   \n",
      "1  null  32652776  null  User        https://api.github.com/users/wangdi1   \n",
      "2  null   5822721  null  User  https://api.github.com/users/ashleypittman   \n",
      "3  null   3277648  null  User       https://api.github.com/users/tanabarr   \n",
      "4  null   1791869  null  User     https://api.github.com/users/liuxuezhao   \n",
      "\n",
      "        username  \n",
      "0     jolivier23  \n",
      "1        wangdi1  \n",
      "2  ashleypittman  \n",
      "3       tanabarr  \n",
      "4     liuxuezhao  \n"
     ]
    }
   ],
   "source": [
    "### get user\n",
    "#github.repos.contributors\n",
    "def get_contributors_of_repo(repo, owner):\n",
    "    query = \"\"\"\n",
    "    SELECT name, email, id, type, url\n",
    "    FROM github.repos.contributors\n",
    "    where repo = '%s' AND owner = '%s';\n",
    "    \"\"\" % (repo, owner)\n",
    "    print(query)\n",
    "    data = get_dataframe_from_query(query)\n",
    "    return data\n",
    "contributors = get_contributors_of_repo(test_repo, test_owner)\n",
    "contributors['username'] =get_username_from_column(contributors['url'].to_list())\n",
    "print(contributors.head(5))\n"
   ]
  },
  {
   "cell_type": "markdown",
   "metadata": {},
   "source": [
    "Other interesting resources in the repo that you can use to check up developer's activity"
   ]
  },
  {
   "cell_type": "code",
   "execution_count": 112,
   "metadata": {},
   "outputs": [
    {
     "name": "stdout",
     "output_type": "stream",
     "text": [
      "  assignee_url pull_number state  \\\n",
      "0         null        9695  open   \n",
      "1         null        9694  open   \n",
      "\n",
      "                                          user_url assignee_username  \\\n",
      "0       https://api.github.com/users/brianjmurrell              None   \n",
      "1  https://api.github.com/users/wangzhaorong-cestc              None   \n",
      "\n",
      "             username  \n",
      "0       brianjmurrell  \n",
      "1  wangzhaorong-cestc  \n"
     ]
    }
   ],
   "source": [
    "def get_pull_requests(repo, owner):\n",
    "    #github.pulls.pull_requests\n",
    "    query = \"\"\"\n",
    "    SELECT \n",
    "    number as pull_number, \n",
    "    JSON_EXTRACT(assignee, '$.url') as assignee_url, \n",
    "    JSON_EXTRACT(user, '$.url') as user_url, \n",
    "    state\n",
    "    FROM github.pulls.pull_requests\n",
    "    where repo = '%s' AND owner = '%s'\n",
    "    \"\"\" % (repo, owner)\n",
    "    pull_requests = get_dataframe_from_query(query)\n",
    "    pull_requests['assignee_username'] =get_username_from_column(pull_requests['assignee_url'].to_list())\n",
    "    pull_requests['username'] =get_username_from_column(pull_requests['user_url'].to_list())\n",
    "    return pull_requests;\n",
    "pull_requests = get_pull_requests(test_repo, test_owner)\n",
    "print(pull_requests.head(2))\n"
   ]
  },
  {
   "cell_type": "code",
   "execution_count": 115,
   "metadata": {},
   "outputs": [
    {
     "name": "stdout",
     "output_type": "stream",
     "text": [
      "                                                 body      state  \\\n",
      "0               LGTM.  No errors found by checkpatch.  COMMENTED   \n",
      "1               LGTM.  No errors found by checkpatch.  COMMENTED   \n",
      "2               LGTM.  No errors found by checkpatch.  COMMENTED   \n",
      "3               LGTM.  No errors found by checkpatch.  COMMENTED   \n",
      "4               LGTM.  No errors found by checkpatch.  COMMENTED   \n",
      "5               LGTM.  No errors found by checkpatch.  COMMENTED   \n",
      "6               LGTM.  No errors found by checkpatch.  COMMENTED   \n",
      "7   Style warning(s) for job https://build.hpdd.in...  DISMISSED   \n",
      "8                                                      COMMENTED   \n",
      "9                                                      COMMENTED   \n",
      "10                                                     COMMENTED   \n",
      "11              LGTM.  No errors found by checkpatch.  COMMENTED   \n",
      "12              LGTM.  No errors found by checkpatch.  COMMENTED   \n",
      "13              LGTM.  No errors found by checkpatch.  COMMENTED   \n",
      "14              LGTM.  No errors found by checkpatch.  COMMENTED   \n",
      "15              LGTM.  No errors found by checkpatch.  COMMENTED   \n",
      "\n",
      "                                      user_url       username  \n",
      "0      https://api.github.com/users/daosbuild1     daosbuild1  \n",
      "1      https://api.github.com/users/daosbuild1     daosbuild1  \n",
      "2      https://api.github.com/users/daosbuild1     daosbuild1  \n",
      "3      https://api.github.com/users/daosbuild1     daosbuild1  \n",
      "4      https://api.github.com/users/daosbuild1     daosbuild1  \n",
      "5      https://api.github.com/users/daosbuild1     daosbuild1  \n",
      "6      https://api.github.com/users/daosbuild1     daosbuild1  \n",
      "7      https://api.github.com/users/daosbuild1     daosbuild1  \n",
      "8   https://api.github.com/users/daltonbohning  daltonbohning  \n",
      "9   https://api.github.com/users/daltonbohning  daltonbohning  \n",
      "10  https://api.github.com/users/daltonbohning  daltonbohning  \n",
      "11     https://api.github.com/users/daosbuild1     daosbuild1  \n",
      "12     https://api.github.com/users/daosbuild1     daosbuild1  \n",
      "13     https://api.github.com/users/daosbuild1     daosbuild1  \n",
      "14     https://api.github.com/users/daosbuild1     daosbuild1  \n",
      "15     https://api.github.com/users/daosbuild1     daosbuild1  \n"
     ]
    }
   ],
   "source": [
    "def get_pull_request_reviews(pull_number, repo, owner):\n",
    "    #github.pulls.reviews\n",
    "    query = \"\"\"\n",
    "    SELECT JSON_EXTRACT(user, '$.url') as user_url, state, body\n",
    "    FROM github.pulls.reviews\n",
    "    where repo = '%s' AND owner = '%s' AND pull_number = %s\n",
    "    \"\"\" % (repo, owner, pull_number)\n",
    "    pull_requests_reviews = get_dataframe_from_query(query)\n",
    "    pull_requests_reviews['username'] =get_username_from_column(pull_requests_reviews['user_url'].to_list())\n",
    "    return pull_requests_reviews;\n",
    "\n",
    "print(get_pull_request_reviews(9656, test_repo, test_owner))\n"
   ]
  },
  {
   "cell_type": "code",
   "execution_count": 113,
   "metadata": {},
   "outputs": [
    {
     "name": "stdout",
     "output_type": "stream",
     "text": [
      "getting reviews for pull number 9695\n",
      "getting reviews for pull number 9694\n",
      "getting reviews for pull number 9693\n",
      "getting reviews for pull number 9692\n",
      "getting reviews for pull number 9691\n",
      "getting reviews for pull number 9690\n",
      "getting reviews for pull number 9689\n",
      "getting reviews for pull number 9688\n",
      "getting reviews for pull number 9685\n",
      "getting reviews for pull number 9684\n",
      "getting reviews for pull number 9683\n",
      "getting reviews for pull number 9682\n",
      "getting reviews for pull number 9681\n",
      "getting reviews for pull number 9680\n",
      "getting reviews for pull number 9679\n",
      "getting reviews for pull number 9678\n",
      "getting reviews for pull number 9676\n",
      "getting reviews for pull number 9675\n",
      "getting reviews for pull number 9674\n",
      "getting reviews for pull number 9673\n"
     ]
    }
   ],
   "source": [
    "def get_reviews_for_pull_requests(pull_numbers: list, repo, owner, limit=100):\n",
    "    ##loop pull requests data\n",
    "    reviews_frames = []\n",
    "    pull_numbers = pull_numbers[0:limit]\n",
    "    for pull_number in pull_numbers:\n",
    "        print('getting reviews for pull number %s' % pull_number)\n",
    "        reviews = get_pull_request_reviews(pull_number, repo, owner)\n",
    "        if reviews is not None and not reviews.empty:\n",
    "            reviews_frames.append(reviews)\n",
    "    return pd.concat(reviews_frames);\n",
    "\n",
    "reviews = get_reviews_for_pull_requests(pull_requests['pull_number'].to_list(), test_repo, test_owner, limit=20)\n"
   ]
  },
  {
   "cell_type": "code",
   "execution_count": 114,
   "metadata": {},
   "outputs": [
    {
     "name": "stdout",
     "output_type": "stream",
     "text": [
      "  body      state                                    user_url       username\n",
      "2       COMMENTED  https://api.github.com/users/daltonbohning  daltonbohning\n"
     ]
    }
   ],
   "source": [
    "reviews['username'] = get_username_from_column(reviews['user_url'].to_list())\n",
    "print(reviews.tail(1))"
   ]
  },
  {
   "cell_type": "code",
   "execution_count": null,
   "metadata": {},
   "outputs": [
    {
     "name": "stdout",
     "output_type": "stream",
     "text": [
      "None\n"
     ]
    }
   ],
   "source": [
    "def aggregate_user_activity (row, commits: pd.DataFrame,  reviews: pd.DataFrame, pull_requests: pd.DataFrame):\n",
    "    username = row['username']\n",
    "    row['commits'] = commits[commits['username'] == username]\n",
    "    row['pull_requests'] = pull_requests[pull_requests['username'] == username]\n",
    "    row['reviews'] = reviews[reviews['username'] == username] \n",
    "    return row\n",
    "\n",
    "def get_user_activity(users: pd.DataFrame, commits: pd.DataFrame,  reviews: pd.DataFrame, pull_requests: pd.DataFrame, owner, repo):\n",
    "    #avoid rate limit\n",
    "    activities = users.apply(aggregate_user_activity, args=(commits, reviews, pull_requests), axis=1)\n",
    "    activities['owner'] = owner;\n",
    "    activities['repo'] = repo\n",
    "    return activities;\n",
    "\n",
    "activities = get_user_activity(contributors, commits, reviews, pull_requests, test_owner, test_repo)\n",
    "print(activities.head(1).to_csv('example_activities.csv'))"
   ]
  },
  {
   "cell_type": "markdown",
   "metadata": {},
   "source": [
    "## Upload results "
   ]
  },
  {
   "cell_type": "code",
   "execution_count": 43,
   "metadata": {},
   "outputs": [
    {
     "name": "stdout",
     "output_type": "stream",
     "text": [
      "storyscore-356114.test_dataset.test_table\n"
     ]
    }
   ],
   "source": [
    "import db.bigquery.data as bg\n",
    "print(bg.get_table_id('test_dataset', 'test_table'))\n"
   ]
  }
 ],
 "metadata": {
  "interpreter": {
   "hash": "112539a114e53e07d0d40516414ef3f03c8b19d5bd93611aadd0ca1ac465dfd7"
  },
  "kernelspec": {
   "display_name": "Python 3.8.9 ('venv': venv)",
   "language": "python",
   "name": "python3"
  },
  "language_info": {
   "codemirror_mode": {
    "name": "ipython",
    "version": 3
   },
   "file_extension": ".py",
   "mimetype": "text/x-python",
   "name": "python",
   "nbconvert_exporter": "python",
   "pygments_lexer": "ipython3",
   "version": "3.8.9"
  },
  "orig_nbformat": 4
 },
 "nbformat": 4,
 "nbformat_minor": 2
}
